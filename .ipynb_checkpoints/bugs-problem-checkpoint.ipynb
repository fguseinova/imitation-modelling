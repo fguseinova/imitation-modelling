{
 "cells": [
  {
   "cell_type": "markdown",
   "id": "4eeee929",
   "metadata": {
    "toc": true
   },
   "source": [
    "<h1>Table of Contents<span class=\"tocSkip\"></span></h1>\n",
    "<div class=\"toc\"><ul class=\"toc-item\"><li><span><a href=\"#Условие-задания\" data-toc-modified-id=\"Условие-задания-1\"><span class=\"toc-item-num\">1&nbsp;&nbsp;</span>Условие задания</a></span></li><li><span><a href=\"#Подход-к-решению\" data-toc-modified-id=\"Подход-к-решению-2\"><span class=\"toc-item-num\">2&nbsp;&nbsp;</span>Подход к решению</a></span></li><li><span><a href=\"#Решение-при-помощи-построения-имитационной-модели\" data-toc-modified-id=\"Решение-при-помощи-построения-имитационной-модели-3\"><span class=\"toc-item-num\">3&nbsp;&nbsp;</span>Решение при помощи построения имитационной модели</a></span></li><li><span><a href=\"#Вывод\" data-toc-modified-id=\"Вывод-4\"><span class=\"toc-item-num\">4&nbsp;&nbsp;</span>Вывод</a></span></li></ul></div>"
   ]
  },
  {
   "cell_type": "markdown",
   "id": "c932caa2",
   "metadata": {},
   "source": [
    "# Задача про жуков\n",
    "## Условие задания\n",
    "В начальный момент времени на каждой из вершин правильной треугольной пирамиды (тетраэдра) находится жук. В каждый дискретный момент времени жуки перепрыгивают на одну из соседних вершин равновероятно. Если все четверо одновременно окажутся на одной вершине, они упадут. Через какое среднее время жуки упадут?"
   ]
  },
  {
   "cell_type": "markdown",
   "id": "3416c799",
   "metadata": {},
   "source": [
    "## Подход к решению\n",
    "\n",
    "Данную задачу можно решать при помощи **закона больших чисел (ЗБЧ)**. <br/>\n",
    "\n",
    "Согласно ЗБЧ, при моделировании одного и того же эксперимента большое количество раз ($ n \\rightarrow \\inf$, где $n$ - число испытаний) среднее значение выборки распределения будет стремиться к математическому ожиданию данного распределения. <br/>\n",
    "\n",
    "Следовательно, если мы будем моделировать перемещения жуков по тетраэдру от начального момента времени и до падения в $n$ испытаниях и каждый раз фиксировать, через какое время $t$ жуки упали, то среднее значение времени, через которое жуки упали в $n$ экспериментах, и будет стремиться к математическому ожиданию того, через какое среднее время жуки упадут:\n",
    "\n",
    "$$ \n",
    "Et = \\frac {\\sum {t_i}}{n}\n",
    "$$"
   ]
  },
  {
   "cell_type": "markdown",
   "id": "d1a545bd",
   "metadata": {},
   "source": [
    "## Решение при помощи построения имитационной модели"
   ]
  },
  {
   "cell_type": "code",
   "execution_count": 1,
   "id": "67cca4f1",
   "metadata": {},
   "outputs": [],
   "source": [
    "# импортируем необходимые библиотеки для работы\n",
    "from collections import Counter\n",
    "from tqdm import tqdm\n",
    "import random"
   ]
  },
  {
   "cell_type": "code",
   "execution_count": 2,
   "id": "7bb11caf",
   "metadata": {},
   "outputs": [],
   "source": [
    "# добавим пользовательскую функцию get_indexes\n",
    "\n",
    "def get_indexes(combination):\n",
    "    \n",
    "    \"\"\"\n",
    "    Возвращает список индексов, которые описывают возможные смещения каждого жука при\n",
    "    данной конфигурации. Например, у нас есть конфигурации (3, 1, 0, 0): 3 жука могут\n",
    "    перейти к одной из вершин [1, 2, 3] и 4-й жук к одной из вершин [0, 2, 3]․ Например \n",
    "    >>> combination = (3, 1, 0, 0)\n",
    "    >>> get_indexes(combination)\n",
    "    >>> [[1, 2, 3], [1, 2, 3], [1, 2, 3], [0, 2, 3]]\n",
    "    \"\"\"\n",
    "    \n",
    "    indexes = []\n",
    "    \n",
    "    for ind, el in enumerate(combination):\n",
    "        if el == 0:\n",
    "            continue\n",
    "        poss_moves = [0, 1, 2, 3]\n",
    "        del poss_moves[ind]\n",
    "        for j in range(el):\n",
    "            indexes.append(poss_moves)\n",
    "            \n",
    "    return indexes"
   ]
  },
  {
   "cell_type": "code",
   "execution_count": 3,
   "id": "603aa46a",
   "metadata": {},
   "outputs": [],
   "source": [
    "# добавим пользовательскую функцию get_new_random_combination\n",
    "\n",
    "def get_new_random_combination(combination):\n",
    "    \n",
    "    \"\"\"\n",
    "    Делает один случайный шаг жука к другим вершинам для данной конфигурации и\n",
    "    возвращает новую конфигурацию. Например\n",
    "    >>> combination=(1,1,1,1)\n",
    "    >>> get_new_random_combination(combination)\n",
    "    >>> [0, 2, 2, 0]\n",
    "    \"\"\"\n",
    "    \n",
    "    indexes = get_indexes(combination)\n",
    "    res = [0, 0, 0, 0]\n",
    "    \n",
    "    for i in indexes:\n",
    "        rand_move = random.choice(i)\n",
    "        res[rand_move] += 1\n",
    "        \n",
    "    return res"
   ]
  },
  {
   "cell_type": "code",
   "execution_count": 4,
   "id": "efa03c39",
   "metadata": {},
   "outputs": [],
   "source": [
    "# добавим пользовательскую функцию expectation\n",
    "\n",
    "def expectation(combination, it_count):\n",
    "    \n",
    "    \"\"\"\n",
    "    Считает, сколько, находясь на заданной конфигурации, в среднем it_count (штук) итераций нужно,\n",
    "    чтобы дойти до конфигурации (4, 0, 0, 0).\n",
    "    \"\"\"\n",
    "    \n",
    "    c = 0\n",
    "    \n",
    "    for i in tqdm(range(it_count)):\n",
    "        cur_combination = combination\n",
    "        while True:\n",
    "            cur_combination = sorted(get_new_random_combination(cur_combination), reverse=True)\n",
    "            c += 1\n",
    "            if cur_combination[0] == 4:\n",
    "                break\n",
    "                \n",
    "    return c / it_count"
   ]
  },
  {
   "cell_type": "code",
   "execution_count": 5,
   "id": "f710f4e6",
   "metadata": {},
   "outputs": [
    {
     "name": "stdout",
     "output_type": "stream",
     "text": [
      "Среднее число шагов при разном количестве испытаний\n"
     ]
    },
    {
     "name": "stderr",
     "output_type": "stream",
     "text": [
      "100%|███████████████████████████████████████| 100/100 [00:00<00:00, 2678.39it/s]\n"
     ]
    },
    {
     "name": "stdout",
     "output_type": "stream",
     "text": [
      "n = 100 : 63.21\n"
     ]
    },
    {
     "name": "stderr",
     "output_type": "stream",
     "text": [
      "100%|█████████████████████████████████████| 1000/1000 [00:00<00:00, 2598.86it/s]\n"
     ]
    },
    {
     "name": "stdout",
     "output_type": "stream",
     "text": [
      "n = 1000 : 69.63\n"
     ]
    },
    {
     "name": "stderr",
     "output_type": "stream",
     "text": [
      "100%|███████████████████████████████████| 10000/10000 [00:03<00:00, 2760.59it/s]\n"
     ]
    },
    {
     "name": "stdout",
     "output_type": "stream",
     "text": [
      "n = 10000 : 66.5495\n"
     ]
    },
    {
     "name": "stderr",
     "output_type": "stream",
     "text": [
      "100%|█████████████████████████████████| 100000/100000 [00:36<00:00, 2736.31it/s]"
     ]
    },
    {
     "name": "stdout",
     "output_type": "stream",
     "text": [
      "n = 100000 : 66.79618\n"
     ]
    },
    {
     "name": "stderr",
     "output_type": "stream",
     "text": [
      "\n"
     ]
    }
   ],
   "source": [
    "print(\"Среднее число шагов при разном количестве испытаний\")\n",
    "for n in [100, 1000, 10000, 100000]:\n",
    "    a = expectation ([1, 1, 1, 1], n)\n",
    "    print(\"n =\", n, \":\", a)"
   ]
  },
  {
   "cell_type": "markdown",
   "id": "19c68d1c",
   "metadata": {},
   "source": [
    "Таким образом, при моделировании среднего времени, через которое жуки упадут, мы получаем от 63 до 70 ед.времени."
   ]
  },
  {
   "cell_type": "markdown",
   "id": "2c8d34a0",
   "metadata": {},
   "source": [
    "## Вывод"
   ]
  },
  {
   "cell_type": "markdown",
   "id": "2cbd43ee",
   "metadata": {},
   "source": [
    "Мы решили задачу про жуков и тетраэдр на основе закона больших чисел при помощи моделирования большого числа экспериментов:\n",
    "* при 100 экспериментах жуки падают через `63.2` ед. времени;\n",
    "* при 1 000 экспериментах жуки падают через `69.6` ед. времени;\n",
    "* при 10 000 экспериментах жуки падают через `66.5` ед.времени;\n",
    "* при 15 000 экспериментах жуки падают через `66.8` ед.времени.\n",
    "\n",
    "Следовательно, фактическое математическое ожидание того, через какое время жуки упадут с тетраэдра, судя по всему, находится около 66 ед. времени."
   ]
  }
 ],
 "metadata": {
  "kernelspec": {
   "display_name": "Python 3 (ipykernel)",
   "language": "python",
   "name": "python3"
  },
  "language_info": {
   "codemirror_mode": {
    "name": "ipython",
    "version": 3
   },
   "file_extension": ".py",
   "mimetype": "text/x-python",
   "name": "python",
   "nbconvert_exporter": "python",
   "pygments_lexer": "ipython3",
   "version": "3.9.15"
  },
  "toc": {
   "base_numbering": 1,
   "nav_menu": {},
   "number_sections": true,
   "sideBar": true,
   "skip_h1_title": true,
   "title_cell": "Table of Contents",
   "title_sidebar": "Contents",
   "toc_cell": true,
   "toc_position": {},
   "toc_section_display": true,
   "toc_window_display": false
  }
 },
 "nbformat": 4,
 "nbformat_minor": 5
}
