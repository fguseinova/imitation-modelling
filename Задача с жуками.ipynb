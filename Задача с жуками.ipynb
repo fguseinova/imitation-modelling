{
 "cells": [
  {
   "cell_type": "markdown",
   "id": "c932caa2",
   "metadata": {},
   "source": [
    "# Задание про жуков\n",
    "## Условие задания\n",
    "В начальный момент времени на каждой из вершин правильной треугольной пирамиды (тетраэдра) находится жук. В каждый дискретный момент времени жуки перепрыгивают на одну из соседних вершин равновероятно. Если все четверо одновременно окажутся на одной вершине, они упадут. Через какое среднее время жуки упадут?"
   ]
  },
  {
   "cell_type": "markdown",
   "id": "d1a545bd",
   "metadata": {},
   "source": [
    "## Решение при помощи построения имитационной модели"
   ]
  },
  {
   "cell_type": "code",
   "execution_count": null,
   "id": "f710f4e6",
   "metadata": {},
   "outputs": [],
   "source": [
    "from collections import Counter\n",
    "from tqdm import tqdm\n",
    "import random\n",
    "\n",
    "def get_indexes(combination):\n",
    "    \"\"\"\n",
    "    Возвращает список индексов, которые описывают возможные смещения каждого жука при\n",
    "    данной конфигурации. Например, у нас есть конфигурации (3, 1, 0, 0): 3 жука могут\n",
    "    перейти к одной из вершин [1, 2, 3] и 4-й жук к одной из вершин [0, 2, 3]․ Например \n",
    "    >>> combination = (3, 1, 0, 0)\n",
    "    >>> get_indexes(combination)\n",
    "    >>> [[1, 2, 3], [1, 2, 3], [1, 2, 3], [0, 2, 3]]\n",
    "    \"\"\"\n",
    "    indexes = []\n",
    "    for ind, el in enumerate(combination):\n",
    "        if el == 0:\n",
    "            continue\n",
    "        poss_moves = [0, 1, 2, 3]\n",
    "        del poss_moves[ind]\n",
    "        for j in range(el):\n",
    "            indexes.append(poss_moves)\n",
    "    return indexes\n",
    "\n",
    "def get_new_random_combination(combination):\n",
    "    \"\"\"\n",
    "    Делает один случайный шаг жука к другим вершинам для данной конфигурации и\n",
    "    возвращает новую конфигурацию. Например\n",
    "    >>> combination=(1,1,1,1)\n",
    "    >>> get_new_random_combination(combination)\n",
    "    >>> [0, 2, 2, 0]\n",
    "    \"\"\"\n",
    "    indexes = get_indexes(combination)\n",
    "    res = [0, 0, 0, 0]\n",
    "    for i in indexes:\n",
    "        rand_move = random.choice(i)\n",
    "        res[rand_move] += 1\n",
    "    return res\n",
    "\n",
    "def expectation(combination, it_count):\n",
    "    \"\"\"\n",
    "    Считает, сколько, находясь на заданной конфигурации, в среднем it_count (штук) итераций нужно,\n",
    "    чтобы дойти до конфигурации (4, 0, 0, 0).\n",
    "    \"\"\"\n",
    "    c = 0\n",
    "    for i in tqdm(range(it_count)):\n",
    "        cur_combination = combination\n",
    "        while True:\n",
    "            cur_combination = sorted(get_new_random_combination(cur_combination), reverse=True)\n",
    "            c += 1\n",
    "            if cur_combination[0] == 4:\n",
    "                break\n",
    "    return c / it_count\n",
    "\n",
    "print(\"Среднее число шагов при разном количестве испытаний\")\n",
    "for n in [100, 1000, 10000, 15000]:\n",
    "    a = expectation ([1, 1, 1, 1], n)\n",
    "    print(\"n =\", n, \":\", a)\n"
   ]
  }
 ],
 "metadata": {
  "kernelspec": {
   "display_name": "Python 3 (ipykernel)",
   "language": "python",
   "name": "python3"
  },
  "language_info": {
   "codemirror_mode": {
    "name": "ipython",
    "version": 3
   },
   "file_extension": ".py",
   "mimetype": "text/x-python",
   "name": "python",
   "nbconvert_exporter": "python",
   "pygments_lexer": "ipython3",
   "version": "3.9.7"
  }
 },
 "nbformat": 4,
 "nbformat_minor": 5
}
